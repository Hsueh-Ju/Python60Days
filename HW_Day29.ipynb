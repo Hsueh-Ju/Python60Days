{
 "cells": [
  {
   "cell_type": "markdown",
   "metadata": {
    "id": "H-z4L8J371GO"
   },
   "source": [
    "## 作業:\n",
    "今天學到不同統計量之間特性，  \n",
    "試著分析男生女生身高資料，  \n",
    "試著回答下面的問題:  \n",
    "Q1:試著用今天所教的內容，如何描述這兩組資料的樣態?    \n",
    "Q2: 請問男生和女生在平均身高上誰比較高?   \n",
    "Q3:請問第二題的答案和日常生活中觀察的一致嗎? 如果不一致，你覺得原因可能為何?    \n",
    "上述問題透過  python 語法進行運算，\n",
    "並將上述答案填寫在 (google 表單)[https://docs.google.com/forms/d/e/1FAIpQLSdDzwpeJl8YLPwZaW8pBZvtuXY9kIbbZLqxcXyzFaoraV5JEA/viewform ]\n",
    "![](作業資料圖檔.PNG)"
   ]
  },
  {
   "cell_type": "code",
   "execution_count": 2,
   "metadata": {
    "id": "yz28_IgkYdBW"
   },
   "outputs": [],
   "source": [
    "# library\n",
    "import matplotlib.pyplot as plt\n",
    "import numpy as np\n",
    "import pandas as pd\n",
    "from scipy import stats\n",
    "import math\n",
    "import statistics\n",
    "import seaborn as sns"
   ]
  },
  {
   "cell_type": "code",
   "execution_count": 6,
   "metadata": {
    "id": "3NtzuWtt71GU",
    "outputId": "be21c4eb-a6c2-4674-aadd-d378bafc0428"
   },
   "outputs": [],
   "source": [
    "## 輸入資料\n",
    "boys = [164, 175, 183, 173, 176, 159, 165, 165, 169, 151, 156, 163, 169, 144, 170, 177, 165, 160, 164, 171]\n",
    "girls = [169, 170, 162, 154, 183, 173, 169, 167, 170, 185, 162, 175, 168, 151, 181, 170, 182, 156, 159, 160]"
   ]
  },
  {
   "cell_type": "code",
   "execution_count": 22,
   "metadata": {
    "id": "uDM9AzrY71GW",
    "outputId": "f4e7ede3-fda9-4858-f122-af7c3b3f3ad4"
   },
   "outputs": [
    {
     "name": "stdout",
     "output_type": "stream",
     "text": [
      "男生平均= 165.95\n",
      "女生平均= 168.3\n",
      "男生中位數= 165.0\n",
      "女生中位數= 168.3\n",
      "男生標準差= 9.213691185575838\n",
      "女生標準差= 9.766214587465353\n",
      "男生眾數= 165\n",
      "女生眾數= ModeResult(mode=array([170]), count=array([3]))\n",
      "女生眾數= 170\n",
      "男生身高變異數= 84.89210526315789\n",
      "女生身高變異數= 95.37894736842104\n",
      "男生20百分位數= 159.8\n",
      "女生20百分位數= 159.8\n",
      "男生偏度= -0.4713212731737694\n",
      "女生偏度= 0.059853211293650746\n",
      "男生峰度= 0.19395882957876243\n",
      "女生峰度= -0.8203607083948947\n"
     ]
    }
   ],
   "source": [
    "#Q1:試著用今天所教的內容，如何描述這兩組資料的樣態?\n",
    "#暗示:  分別計算男生和女生的統計量\n",
    "# 平均數\n",
    "print(\"男生平均=\",statistics.mean(boys))\n",
    "print(\"女生平均=\",np.mean(girls))\n",
    "\n",
    "#中位數\n",
    "print(\"男生中位數=\",statistics.median(boys))\n",
    "print(\"女生中位數=\",np.mean(girls))\n",
    "\n",
    "#標準差\n",
    "print(\"男生標準差=\",statistics.stdev(boys))\n",
    "print(\"女生標準差=\",np.std(girls,ddof=1))\n",
    "\n",
    "#眾數\n",
    "print(\"男生眾數=\",statistics.mode(boys))\n",
    "print(\"女生眾數=\",stats.mode(girls,axis=None))\n",
    "print(\"女生眾數=\",stats.mode(girls,axis=None)[0][0])\n",
    "\n",
    "#變異數\n",
    "print(\"男生身高變異數=\",statistics.variance(boys))\n",
    "print(\"女生身高變異數=\",np.var(girls,ddof=1))\n",
    "\n",
    "#百分位數\n",
    "print(\"男生20百分位數=\",stats.scoreatpercentile(boys,20))\n",
    "print(\"女生20百分位數=\",np.percentile(girls,20))\n",
    "\n",
    "#偏度\n",
    "print(\"男生偏度=\",stats.skew(boys))\n",
    "print(\"女生偏度=\",stats.skew(girls))\n",
    "\n",
    "#峰度\n",
    "print(\"男生峰度=\",stats.kurtosis(boys))\n",
    "print(\"女生峰度=\",stats.kurtosis(girls))"
   ]
  },
  {
   "cell_type": "code",
   "execution_count": 27,
   "metadata": {
    "id": "xH_GNsC271GW",
    "outputId": "f4b4c46a-0d8b-421c-9c70-0ebf2aab0e31"
   },
   "outputs": [
    {
     "name": "stdout",
     "output_type": "stream",
     "text": [
      "男生平均身高= 165.95\n",
      "女生平均身高= 168.3\n",
      "女生平均身高高\n"
     ]
    }
   ],
   "source": [
    "#Q2: 請問男生和女生在平均身高上誰比較高? \n",
    "print(\"男生平均身高=\",np.mean(boys))\n",
    "print(\"女生平均身高=\",np.mean(girls))\n",
    "mean_boys = np.mean(boys)\n",
    "mean_girls = np.mean(girls)\n",
    "if(mean_boys<mean_girls):\n",
    "    print(\"女生平均身高高\")\n",
    "else:\n",
    "    print(\"男生平均身高高\")"
   ]
  },
  {
   "cell_type": "code",
   "execution_count": 28,
   "metadata": {
    "id": "xAzZU0Dv71GX",
    "outputId": "e2017c09-70fc-41ab-99c0-9d41fe21629d"
   },
   "outputs": [
    {
     "name": "stdout",
     "output_type": "stream",
     "text": [
      "可能是樣本數不大，抽到離群值較大的數字\n"
     ]
    }
   ],
   "source": [
    "#Q3:請問第二題的答案和日常生活中觀察的一致嗎? 如果不一致，你覺得原因可能為何? \n",
    "print(\"可能是樣本數不大，抽到離群值較大的數字\")"
   ]
  },
  {
   "cell_type": "code",
   "execution_count": null,
   "metadata": {},
   "outputs": [],
   "source": []
  }
 ],
 "metadata": {
  "colab": {
   "collapsed_sections": [],
   "name": "作業.ipynb",
   "provenance": []
  },
  "kernelspec": {
   "display_name": "Python 3",
   "language": "python",
   "name": "python3"
  },
  "language_info": {
   "codemirror_mode": {
    "name": "ipython",
    "version": 3
   },
   "file_extension": ".py",
   "mimetype": "text/x-python",
   "name": "python",
   "nbconvert_exporter": "python",
   "pygments_lexer": "ipython3",
   "version": "3.8.5"
  }
 },
 "nbformat": 4,
 "nbformat_minor": 1
}
